{
 "cells": [
  {
   "cell_type": "markdown",
   "id": "3a0dffdb-9a0a-4759-9b57-dcd1be7de9ab",
   "metadata": {},
   "source": [
    "# Data Science Tools and Ecosystem"
   ]
  },
  {
   "cell_type": "markdown",
   "id": "4cb88c94-a9e2-4892-91f2-281e8d8b4e30",
   "metadata": {},
   "source": [
    "In this notebook, Data Science Tools and Ecosystem are summarized."
   ]
  },
  {
   "cell_type": "markdown",
   "id": "121b9d4b-d5c5-49a8-b0ac-9233d6921f1d",
   "metadata": {},
   "source": [
    "**Objectives:**\n",
    "- List of popular languages for data science\n",
    "- List of commonly used data science libraries\n",
    "- Table of data science tools\n",
    "- Examples of arithmetic expressions in Python"
   ]
  },
  {
   "cell_type": "markdown",
   "id": "13f02be5-20f9-41a5-bbf6-a1c0e69f6763",
   "metadata": {},
   "source": [
    "Some of the popular languages that Data Scientists use are:\n",
    "1. Python\n",
    "2. R\n",
    "3. Scala"
   ]
  },
  {
   "cell_type": "markdown",
   "id": "a09f263d-99f6-4baf-9920-6d83527ee30b",
   "metadata": {},
   "source": [
    "Some of the commonly used libraries used by Data Scientists include:\n",
    "1. Pandas\n",
    "2. NumPy\n",
    "3. Sci-kit learn\n",
    "4. PyTorch"
   ]
  },
  {
   "cell_type": "markdown",
   "id": "83cb1a0c-e630-4831-a383-6aa601dad249",
   "metadata": {},
   "source": [
    "| Data Science Tools |\n",
    "|--------------------|\n",
    "| Git Hub |\n",
    "| Visual Studio Code |\n",
    "|Jupyter Lab |\n",
    "\n"
   ]
  },
  {
   "cell_type": "markdown",
   "id": "86367985-4618-4af0-a7e4-c2f86ea707cd",
   "metadata": {},
   "source": [
    "### Below are a few examples of evaluating arithmetic expressions in Python."
   ]
  },
  {
   "cell_type": "code",
   "execution_count": 5,
   "id": "d3e25004-8fe6-4b9e-80d0-1e4369e5f86d",
   "metadata": {},
   "outputs": [
    {
     "data": {
      "text/plain": [
       "17"
      ]
     },
     "execution_count": 5,
     "metadata": {},
     "output_type": "execute_result"
    }
   ],
   "source": [
    "(3*4)+5\n",
    "# This a simple arithmetic expression to mutiply then add integers."
   ]
  },
  {
   "cell_type": "code",
   "execution_count": 1,
   "id": "11e1fb21-1f24-4bfd-88ae-b0143fc652c5",
   "metadata": {},
   "outputs": [
    {
     "name": "stdout",
     "output_type": "stream",
     "text": [
      "3.3333333333333335\n"
     ]
    }
   ],
   "source": [
    "minutes = 200\n",
    "hours = minutes / 60\n",
    "print(hours)\n",
    "# This will convert 200 minutes to hours by diving by 60."
   ]
  },
  {
   "cell_type": "markdown",
   "id": "63549d6f-94f3-4b77-9cf0-5b724550e54a",
   "metadata": {},
   "source": [
    "## Author\n",
    "Alfréd Schubert"
   ]
  },
  {
   "cell_type": "code",
   "execution_count": null,
   "id": "12ca119a-be26-49d6-82a4-fe93290f86d4",
   "metadata": {},
   "outputs": [],
   "source": []
  }
 ],
 "metadata": {
  "kernelspec": {
   "display_name": "Python 3 (ipykernel)",
   "language": "python",
   "name": "python3"
  },
  "language_info": {
   "codemirror_mode": {
    "name": "ipython",
    "version": 3
   },
   "file_extension": ".py",
   "mimetype": "text/x-python",
   "name": "python",
   "nbconvert_exporter": "python",
   "pygments_lexer": "ipython3",
   "version": "3.12.7"
  }
 },
 "nbformat": 4,
 "nbformat_minor": 5
}
